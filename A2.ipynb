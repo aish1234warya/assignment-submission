{
  "nbformat": 4,
  "nbformat_minor": 0,
  "metadata": {
    "colab": {
      "name": "A2.ipynb",
      "provenance": [],
      "authorship_tag": "ABX9TyND3q/AfHMrGM7WsO/+S13C",
      "include_colab_link": true
    },
    "kernelspec": {
      "name": "python3",
      "display_name": "Python 3"
    }
  },
  "cells": [
    {
      "cell_type": "markdown",
      "metadata": {
        "id": "view-in-github",
        "colab_type": "text"
      },
      "source": [
        "<a href=\"https://colab.research.google.com/github/aish1234warya/assignment-submission/blob/main/A2.ipynb\" target=\"_parent\"><img src=\"https://colab.research.google.com/assets/colab-badge.svg\" alt=\"Open In Colab\"/></a>"
      ]
    },
    {
      "cell_type": "code",
      "metadata": {
        "id": "G1pusNBEk9_R",
        "colab": {
          "base_uri": "https://localhost:8080/"
        },
        "outputId": "ad23dfab-48ae-4d84-b456-dd0ae0c15de3"
      },
      "source": [
        "#que 1:- ans is o(n*2)\r\n",
        "#que 2:- ans is option1--suitable for all kind input\r\n",
        "#que3:-Write a Python program to print even numbers in a list.\r\n",
        "\r\n",
        "\r\n",
        "list1=[12,3,55,6,144]\r\n",
        "even_list=[]\r\n",
        "for i in list1:\r\n",
        "  if i % 2 == 0:\r\n",
        "    even_list.append(i)\r\n",
        "print(even_list) "
      ],
      "execution_count": 1,
      "outputs": [
        {
          "output_type": "stream",
          "text": [
            "[12, 6, 144]\n"
          ],
          "name": "stdout"
        }
      ]
    }
  ]
}