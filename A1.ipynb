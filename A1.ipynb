{
  "nbformat": 4,
  "nbformat_minor": 0,
  "metadata": {
    "colab": {
      "name": "A1.ipynb",
      "provenance": [],
      "collapsed_sections": [],
      "authorship_tag": "ABX9TyNKct95Rsn6/S7JCX8NVmoB",
      "include_colab_link": true
    },
    "kernelspec": {
      "name": "python3",
      "display_name": "Python 3"
    }
  },
  "cells": [
    {
      "cell_type": "markdown",
      "metadata": {
        "id": "view-in-github",
        "colab_type": "text"
      },
      "source": [
        "<a href=\"https://colab.research.google.com/github/aish1234warya/assignment-submission/blob/main/A1.ipynb\" target=\"_parent\"><img src=\"https://colab.research.google.com/assets/colab-badge.svg\" alt=\"Open In Colab\"/></a>"
      ]
    },
    {
      "cell_type": "code",
      "metadata": {
        "colab": {
          "base_uri": "https://localhost:8080/"
        },
        "id": "107Pkx9p7xXG",
        "outputId": "ff9f0975-c448-4699-94ef-c1dd6aea0e11"
      },
      "source": [
        "\"\"\"Write a python program that takes two numbers as the input such as X and Y and print the result\r\n",
        "of X^Y(X to the power of Y).\"\"\"\r\n",
        "\r\n",
        "x=int(input(\"enter the base no: \"))\r\n",
        "y=int(input(\"enter the power no: \"))\r\n",
        "z=x**y\r\n",
        "print(\"THE ANSWER IS:- \",z)"
      ],
      "execution_count": null,
      "outputs": [
        {
          "output_type": "stream",
          "text": [
            "enter the base no: 5\n",
            "enter the power no: 2\n",
            "THE ANSWER IS:-  25\n"
          ],
          "name": "stdout"
        }
      ]
    },
    {
      "cell_type": "code",
      "metadata": {
        "colab": {
          "base_uri": "https://localhost:8080/"
        },
        "id": "UJodK0kiFh-L",
        "outputId": "c435826b-c541-4d62-d14b-4af44fec4551"
      },
      "source": [
        "\"\"\"Write a python program that takes two numbers as the input and print the result of Addition,\r\n",
        "  Subtraction, Multiplication, Division of the two numbers\"\"\"\r\n",
        "\r\n",
        "a=int(input(\"enter the first no: \"))\r\n",
        "b=int(input(\"enter the second no: \"))\r\n",
        "sum=a+b\r\n",
        "diff=a-b\r\n",
        "multi=a*b\r\n",
        "div1=a%b #it gives remainder(modulous division)\r\n",
        "div2=a/b #it gives quotient(floor division)\r\n",
        "\r\n",
        "print(\"sum of two no is\",sum)\r\n",
        "print(\"difference of two no is\",diff)\r\n",
        "print(\"multiplication two no is\",multi)\r\n",
        "print(\"modulous division of two no is\",div1)\r\n",
        "print(\"floor division of two no is\",div2)"
      ],
      "execution_count": null,
      "outputs": [
        {
          "output_type": "stream",
          "text": [
            "enter the first no: 10\n",
            "enter the second no: 5\n",
            "sum of two no is 15\n",
            "difference of two no is 5\n",
            "multiplication two no is 50\n",
            "modulous division of two no is 0\n",
            "floor division of two no is 2.0\n"
          ],
          "name": "stdout"
        }
      ]
    }
  ]
}