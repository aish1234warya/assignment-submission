{
  "nbformat": 4,
  "nbformat_minor": 0,
  "metadata": {
    "colab": {
      "name": "day2.ipynb",
      "provenance": [],
      "collapsed_sections": [],
      "authorship_tag": "ABX9TyMjK95yH0bf27fGvQeiuHBJ",
      "include_colab_link": true
    },
    "kernelspec": {
      "name": "python3",
      "display_name": "Python 3"
    }
  },
  "cells": [
    {
      "cell_type": "markdown",
      "metadata": {
        "id": "view-in-github",
        "colab_type": "text"
      },
      "source": [
        "<a href=\"https://colab.research.google.com/github/aish1234warya/assignment-submission/blob/main/day2.ipynb\" target=\"_parent\"><img src=\"https://colab.research.google.com/assets/colab-badge.svg\" alt=\"Open In Colab\"/></a>"
      ]
    },
    {
      "cell_type": "code",
      "metadata": {
        "colab": {
          "base_uri": "https://localhost:8080/"
        },
        "id": "OCxmxE97SP_C",
        "outputId": "2d56362d-1875-40ff-fffb-32a0c433a423"
      },
      "source": [
        "#Question 1\r\n",
        "#Do Experiment with 5 List's In-built functions and post it to Github\r\n",
        "\r\n",
        "\r\n",
        "#1:-adding element at the last position\r\n",
        "li=[1,2,3,4,5,6,7,8]\r\n",
        "li.append(9)\r\n",
        "print(li)"
      ],
      "execution_count": 13,
      "outputs": [
        {
          "output_type": "stream",
          "text": [
            "[1, 2, 3, 4, 5, 6, 7, 8, 9]\n"
          ],
          "name": "stdout"
        }
      ]
    },
    {
      "cell_type": "code",
      "metadata": {
        "id": "eACvV0pVf7vO"
      },
      "source": [
        ""
      ],
      "execution_count": null,
      "outputs": []
    },
    {
      "cell_type": "code",
      "metadata": {
        "colab": {
          "base_uri": "https://localhost:8080/"
        },
        "id": "vI7SebcrVuo2",
        "outputId": "8081772b-6cf6-4dfa-e6e4-97312a23365c"
      },
      "source": [
        "#2:- adding element at required position\r\n",
        "fruits=[\"mango\",\"apple\",\"orange\"]\r\n",
        "fruits.insert(1,\"banana\")\r\n",
        "print(fruits)"
      ],
      "execution_count": 14,
      "outputs": [
        {
          "output_type": "stream",
          "text": [
            "['mango', 'banana', 'apple', 'orange']\n"
          ],
          "name": "stdout"
        }
      ]
    },
    {
      "cell_type": "code",
      "metadata": {
        "colab": {
          "base_uri": "https://localhost:8080/"
        },
        "id": "cJt8lggvWd89",
        "outputId": "37cb6266-6f8d-4291-cd02-544cea4be3f3"
      },
      "source": [
        "#3:- deleting the element in the list\r\n",
        "string=[\"hi\",\"bye\",\"hello\",5,\"good\"]\r\n",
        "string.pop(3)\r\n",
        "print(string)"
      ],
      "execution_count": 15,
      "outputs": [
        {
          "output_type": "stream",
          "text": [
            "['hi', 'bye', 'hello', 'good']\n"
          ],
          "name": "stdout"
        }
      ]
    },
    {
      "cell_type": "markdown",
      "metadata": {
        "id": "V3hr4PzZdZCC"
      },
      "source": [
        ""
      ]
    },
    {
      "cell_type": "code",
      "metadata": {
        "colab": {
          "base_uri": "https://localhost:8080/"
        },
        "id": "81AO2OcOXgBO",
        "outputId": "9a714fcc-a97e-4861-8c55-b085671f08fe"
      },
      "source": [
        "#4:- removing the duplicate element in the list\r\n",
        "unique_list=[1,2,3,4,5,6,6,6,6,5,4,4,1,2]\r\n",
        "b=set(unique_list)\r\n",
        "print(b)"
      ],
      "execution_count": 22,
      "outputs": [
        {
          "output_type": "stream",
          "text": [
            "{1, 2, 3, 4, 5, 6}\n"
          ],
          "name": "stdout"
        }
      ]
    },
    {
      "cell_type": "code",
      "metadata": {
        "colab": {
          "base_uri": "https://localhost:8080/"
        },
        "id": "SKDJvu6od_26",
        "outputId": "1e9c1e92-f27d-4b8e-e795-4c3628ff7b22"
      },
      "source": [
        "#5:-accesing the element of the list and reversing the list\r\n",
        "new=[1,2,3,4,5,6,7]\r\n",
        "x=new[0]\r\n",
        "y=new[ : :-1]\r\n",
        "print(x)\r\n",
        "print(y)\r\n"
      ],
      "execution_count": 28,
      "outputs": [
        {
          "output_type": "stream",
          "text": [
            "1\n",
            "[7, 6, 5, 4, 3, 2, 1]\n"
          ],
          "name": "stdout"
        }
      ]
    },
    {
      "cell_type": "markdown",
      "metadata": {
        "id": "ZZhLXVrtgESt"
      },
      "source": [
        ""
      ]
    },
    {
      "cell_type": "code",
      "metadata": {
        "id": "VggLG7qUgGHR"
      },
      "source": [
        "#Question 2\r\n",
        "#Do Experiment with 5 Dictionary’s In-Built Functions, and post it to Github"
      ],
      "execution_count": null,
      "outputs": []
    },
    {
      "cell_type": "code",
      "metadata": {
        "colab": {
          "base_uri": "https://localhost:8080/"
        },
        "id": "g-5uSo8xgcOJ",
        "outputId": "23aa33f4-a669-4868-fbfd-2d050762862e"
      },
      "source": [
        "#1:-displaying the dictionery and clearing it.\r\n",
        "my_dict={\"name\":\"aishwarya\",\"class\":1,\"profession\":\"student\"}\r\n",
        "print(my_dict)\r\n",
        "my_dict.clear()\r\n",
        "print(my_dict)\r\n",
        "\r\n"
      ],
      "execution_count": 41,
      "outputs": [
        {
          "output_type": "stream",
          "text": [
            "{'name': 'aishwarya', 'class': 1, 'profession': 'student'}\n",
            "{}\n"
          ],
          "name": "stdout"
        }
      ]
    },
    {
      "cell_type": "code",
      "metadata": {
        "colab": {
          "base_uri": "https://localhost:8080/"
        },
        "id": "bX_roHOrmTyN",
        "outputId": "184cce13-3839-49df-a38b-158cc3a70ba6"
      },
      "source": [
        "#2:-to copy the dictionery\r\n",
        "my_dict={\"name\":\"aishwarya\",\"class\":1,\"profession\":\"student\"}\r\n",
        "print(my_dict)\r\n",
        "b=my_dict.copy()\r\n",
        "print(my_dict)"
      ],
      "execution_count": 40,
      "outputs": [
        {
          "output_type": "stream",
          "text": [
            "{'name': 'aishwarya', 'class': 1, 'profession': 'student'}\n",
            "{'name': 'aishwarya', 'class': 1, 'profession': 'student'}\n"
          ],
          "name": "stdout"
        }
      ]
    },
    {
      "cell_type": "markdown",
      "metadata": {
        "id": "_GkteZNfgRjR"
      },
      "source": [
        ""
      ]
    },
    {
      "cell_type": "code",
      "metadata": {
        "colab": {
          "base_uri": "https://localhost:8080/"
        },
        "id": "76p868fVm034",
        "outputId": "ef9263b4-6f34-4efb-8e57-5abc5fdb72c2"
      },
      "source": [
        "#3:- to get the value for required key.\r\n",
        "my_dict={\"name\":\"aishwarya\",\"class\":1,\"profession\":\"student\"}\r\n",
        "print(my_dict.get(\"name\"))"
      ],
      "execution_count": 42,
      "outputs": [
        {
          "output_type": "stream",
          "text": [
            "aishwarya\n"
          ],
          "name": "stdout"
        }
      ]
    },
    {
      "cell_type": "code",
      "metadata": {
        "colab": {
          "base_uri": "https://localhost:8080/"
        },
        "id": "7QQ5WIoBngOq",
        "outputId": "5c0b261b-a6d5-4c9a-f25b-1ae679529277"
      },
      "source": [
        "#4:- to get all the keys and values.\r\n",
        "my_dict={\"name\":\"aishwarya\",\"class\":1,\"profession\":\"student\"}\r\n",
        "print(my_dict.keys())\r\n",
        "print(my_dict.values())"
      ],
      "execution_count": 44,
      "outputs": [
        {
          "output_type": "stream",
          "text": [
            "dict_keys(['name', 'class', 'profession'])\n",
            "dict_values(['aishwarya', 1, 'student'])\n"
          ],
          "name": "stdout"
        }
      ]
    },
    {
      "cell_type": "markdown",
      "metadata": {
        "id": "11W2_2a7sq5O"
      },
      "source": [
        "# *difference between pop and popitem *"
      ]
    },
    {
      "cell_type": "code",
      "metadata": {
        "colab": {
          "base_uri": "https://localhost:8080/"
        },
        "id": "tLzjMD1on7nV",
        "outputId": "d748550e-8676-4c42-b64d-ab3d5ad82689"
      },
      "source": [
        "#5:- to pop out the last key and value pair\r\n",
        "my_dict={\"name\":\"aishwarya\",\"class\":1,\"profession\":\"student\"}\r\n",
        "print(my_dict.popitem())\r\n"
      ],
      "execution_count": 48,
      "outputs": [
        {
          "output_type": "stream",
          "text": [
            "('profession', 'student')\n"
          ],
          "name": "stdout"
        }
      ]
    },
    {
      "cell_type": "code",
      "metadata": {
        "colab": {
          "base_uri": "https://localhost:8080/"
        },
        "id": "KuqysbO7paG8",
        "outputId": "39a3750c-d0d7-4405-ed13-52a8b7f74a77"
      },
      "source": [
        "#:-it pop the associate value of the key\r\n",
        "my_dict={\"name\":\"aishwarya\",\"class\":1,\"profession\":\"student\"}\r\n",
        "print(my_dict.pop(\"profession\"))"
      ],
      "execution_count": 51,
      "outputs": [
        {
          "output_type": "stream",
          "text": [
            "student\n"
          ],
          "name": "stdout"
        }
      ]
    }
  ]
}